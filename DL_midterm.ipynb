{
  "nbformat": 4,
  "nbformat_minor": 0,
  "metadata": {
    "colab": {
      "provenance": []
    },
    "kernelspec": {
      "name": "python3",
      "display_name": "Python 3"
    },
    "language_info": {
      "name": "python"
    },
    "accelerator": "GPU",
    "gpuClass": "standard"
  },
  "cells": [
    {
      "cell_type": "code",
      "execution_count": null,
      "metadata": {
        "id": "hgUZDVVK-FTn"
      },
      "outputs": [],
      "source": [
        "import numpy as np\n",
        "import tensorflow as tf\n",
        "import matplotlib.pyplot as plt\n",
        "from sklearn.model_selection import train_test_split"
      ]
    },
    {
      "cell_type": "code",
      "source": [
        "from google.colab import drive\n",
        "drive.mount('/content/drive')"
      ],
      "metadata": {
        "colab": {
          "base_uri": "https://localhost:8080/"
        },
        "id": "JvIgydpWyDvz",
        "outputId": "e1a0743d-88b7-45ed-b0ab-0a1a9cdbda9b"
      },
      "execution_count": null,
      "outputs": [
        {
          "output_type": "stream",
          "name": "stdout",
          "text": [
            "Mounted at /content/drive\n"
          ]
        }
      ]
    },
    {
      "cell_type": "code",
      "source": [
        "from tensorflow.keras.datasets import cifar10\n",
        "(x_train, y_train), (x_test, y_test) = cifar10.load_data() "
      ],
      "metadata": {
        "id": "mI6E3q6X-Xzh"
      },
      "execution_count": null,
      "outputs": []
    },
    {
      "cell_type": "code",
      "source": [
        "x_train,x_val,y_train,y_val=train_test_split(x_train,y_train,test_size=5000,shuffle=True) #Create validation dataset by splitting train dataset"
      ],
      "metadata": {
        "id": "CClnGmB3AJO4"
      },
      "execution_count": null,
      "outputs": []
    },
    {
      "cell_type": "code",
      "source": [
        "print(x_train.shape)\n",
        "print(y_train.shape)\n",
        "print(x_test.shape)\n",
        "print(y_test.shape)\n",
        "print(x_val.shape)\n",
        "print(y_val.shape)"
      ],
      "metadata": {
        "colab": {
          "base_uri": "https://localhost:8080/"
        },
        "id": "GcLOTB1P-nJ9",
        "outputId": "3ebe95f2-f8f2-450e-a5d9-6208419679d1"
      },
      "execution_count": null,
      "outputs": [
        {
          "output_type": "stream",
          "name": "stdout",
          "text": [
            "(45000, 32, 32, 3)\n",
            "(45000, 1)\n",
            "(10000, 32, 32, 3)\n",
            "(10000, 1)\n",
            "(5000, 32, 32, 3)\n",
            "(5000, 1)\n"
          ]
        }
      ]
    },
    {
      "cell_type": "code",
      "source": [
        "from tensorflow.keras.utils import to_categorical #Convert labels to categorical data\n",
        "y_train=to_categorical(y_train)\n",
        "y_test=to_categorical(y_test)\n",
        "y_val=to_categorical(y_val)"
      ],
      "metadata": {
        "id": "6GkJwj3S-5lo"
      },
      "execution_count": null,
      "outputs": []
    },
    {
      "cell_type": "code",
      "source": [
        "print(y_train.shape)\n",
        "print(y_test.shape)\n",
        "print(y_val.shape)"
      ],
      "metadata": {
        "colab": {
          "base_uri": "https://localhost:8080/"
        },
        "id": "y7865CZX_IzZ",
        "outputId": "d2ad9227-1353-46fd-8db5-ead4f5f8709e"
      },
      "execution_count": null,
      "outputs": [
        {
          "output_type": "stream",
          "name": "stdout",
          "text": [
            "(45000, 10)\n",
            "(10000, 10)\n",
            "(5000, 10)\n"
          ]
        }
      ]
    },
    {
      "cell_type": "code",
      "source": [
        "x_train=x_train/255. #Normalize all datasets by dividing it by 255.\n",
        "x_test=x_test/255.\n",
        "x_val=x_val/255."
      ],
      "metadata": {
        "id": "mdysqDICBHoC"
      },
      "execution_count": null,
      "outputs": []
    },
    {
      "cell_type": "code",
      "source": [
        "plt.imshow(x_train[0])"
      ],
      "metadata": {
        "id": "utoKI32TBuFn",
        "outputId": "8bf2339f-787c-4e17-b7dc-c365452150fa",
        "colab": {
          "base_uri": "https://localhost:8080/",
          "height": 284
        }
      },
      "execution_count": null,
      "outputs": [
        {
          "output_type": "execute_result",
          "data": {
            "text/plain": [
              "<matplotlib.image.AxesImage at 0x7efe237d52d0>"
            ]
          },
          "metadata": {},
          "execution_count": 8
        },
        {
          "output_type": "display_data",
          "data": {
            "text/plain": [
              "<Figure size 432x288 with 1 Axes>"
            ],
            "image/png": "[encoded data removed]"
          },
          "metadata": {
            "needs_background": "light"
          }
        }
      ]
    },
    {
      "cell_type": "code",
      "source": [
        "from keras.preprocessing.image import ImageDataGenerator\n",
        "aug = ImageDataGenerator(horizontal_flip=True, width_shift_range=0.05,\n",
        "                             height_shift_range=0.05)\n",
        "aug.fit(x_train)"
      ],
      "metadata": {
        "id": "FvjkbJCDV_pt"
      },
      "execution_count": null,
      "outputs": []
    },
    {
      "cell_type": "code",
      "source": [
        "from keras.layers.regularization.spatial_dropout3d import Dropout\n",
        "from keras.callbacks import EarlyStopping\n",
        "from keras.layers import Dense, Conv2D,  MaxPool2D, Flatten, GlobalAveragePooling2D,  BatchNormalization, Layer, Add, Dropout\n",
        "from keras.models import Sequential\n",
        "from keras.models import Model\n",
        "import tensorflow as tf\n",
        "\n",
        "\n",
        "class ResnetBlock(Model):\n",
        "    \"\"\"\n",
        "    A standard resnet block.\n",
        "    \"\"\"\n",
        "\n",
        "    def __init__(self, channels: int, down_sample=False):\n",
        "        \"\"\"\n",
        "        channels: same as number of convolution kernels\n",
        "        \"\"\"\n",
        "        super().__init__()\n",
        "\n",
        "        self.__channels = channels\n",
        "        self.__down_sample = down_sample\n",
        "        self.__strides = [2, 1] if down_sample else [1, 1]\n",
        "\n",
        "        KERNEL_SIZE = (3, 3)\n",
        "        # use He initialization, instead of Xavier (a.k.a 'glorot_uniform' in Keras), as suggested in [2]\n",
        "        INIT_SCHEME = \"he_normal\"\n",
        "\n",
        "        self.conv_1 = Conv2D(self.__channels, strides=self.__strides[0],\n",
        "                             kernel_size=KERNEL_SIZE, padding=\"same\", kernel_initializer=INIT_SCHEME)\n",
        "        self.bn_1 = BatchNormalization()\n",
        "        self.conv_2 = Conv2D(self.__channels, strides=self.__strides[1],\n",
        "                             kernel_size=KERNEL_SIZE, padding=\"same\", kernel_initializer=INIT_SCHEME)\n",
        "        self.bn_2 = BatchNormalization()\n",
        "        self.merge = Add()\n",
        "\n",
        "        if self.__down_sample:\n",
        "            # perform down sampling using stride of 2, according to [1].\n",
        "            self.res_conv = Conv2D(\n",
        "                self.__channels, strides=2, kernel_size=(1, 1), kernel_initializer=INIT_SCHEME, padding=\"same\")\n",
        "            self.res_bn = BatchNormalization()\n",
        "\n",
        "    def call(self, inputs):\n",
        "        res = inputs\n",
        "\n",
        "        x = self.conv_1(inputs)\n",
        "        x = self.bn_1(x)\n",
        "        x = tf.nn.relu(x)\n",
        "        x = self.conv_2(x)\n",
        "        x = self.bn_2(x)\n",
        "\n",
        "        if self.__down_sample:\n",
        "            res = self.res_conv(res)\n",
        "            res = self.res_bn(res)\n",
        "\n",
        "        # if not perform down sample, then add a shortcut directly\n",
        "        x = self.merge([x, res])\n",
        "        out = tf.nn.relu(x)\n",
        "        return out\n",
        "\n",
        "\n",
        "class ResNet18(Model):\n",
        "\n",
        "    def __init__(self, num_classes, **kwargs):\n",
        "        \"\"\"\n",
        "            num_classes: number of classes in specific classification task.\n",
        "        \"\"\"\n",
        "        super().__init__(**kwargs)\n",
        "        self.conv_1 = Conv2D(64, (3, 3), strides=1,\n",
        "                             padding=\"same\", kernel_initializer=\"he_normal\")\n",
        "        self.init_bn = BatchNormalization()\n",
        "        #self.pool_2 = MaxPool2D(pool_size=(2, 2), strides=2, padding=\"same\")\n",
        "        self.res_1_1 = ResnetBlock(64)\n",
        "        self.res_1_2 = ResnetBlock(64)\n",
        "        self.res_2_1 = ResnetBlock(128, down_sample=True)\n",
        "        self.res_2_2 = ResnetBlock(128)\n",
        "        self.res_3_1 = ResnetBlock(256, down_sample=True)\n",
        "        self.res_3_2 = ResnetBlock(256)\n",
        "        #self.res_4_1 = ResnetBlock(512, down_sample=True)\n",
        "        #self.res_4_2 = ResnetBlock(512)\n",
        "        self.max_pool = MaxPool2D(pool_size=(2,2))\n",
        "        self.drop1=Dropout(0.1)\n",
        "        self.drop2=Dropout(0.25)\n",
        "        #self.avg_pool = GlobalAveragePooling2D()\n",
        "        self.flat = Flatten()\n",
        "        self.fc = Dense(num_classes, activation=\"softmax\")\n",
        "\n",
        "    def call(self, inputs):\n",
        "        out = self.conv_1(inputs)\n",
        "        out = self.init_bn(out)\n",
        "        out = tf.nn.relu(out)\n",
        "        #out = self.pool_2(out)\n",
        "        out = self.res_1_1(out)\n",
        "        out = self.res_1_2(out)\n",
        "        out=self.drop1(out)\n",
        "        out = self.res_2_1(out)\n",
        "        out = self.res_2_2(out)\n",
        "        out=self.drop1(out)\n",
        "        out = self.res_3_1(out)\n",
        "        out = self.res_3_2(out)\n",
        "        #out=self.drop2(out)\n",
        "        #out = self.res_4_1(out)\n",
        "        #out = self.res_4_2(out)\n",
        "        #out=self.drop(out)\n",
        "        #for res_block in [self.res_1_1, self.res_1_2, self.res_2_1, self.res_2_2]:\n",
        "         #   out = res_block(out)\n",
        "         #   out=self.drop(out)\n",
        "        out = self.max_pool(out)\n",
        "        out = self.flat(out)\n",
        "        out = self.fc(out)\n",
        "        return out"
      ],
      "metadata": {
        "id": "E4d3WPEIGt_L"
      },
      "execution_count": null,
      "outputs": []
    },
    {
      "cell_type": "code",
      "source": [
        "model = ResNet18(10)\n",
        "model.build(input_shape = (None,32,32,3))\n",
        "#use categorical_crossentropy since the label is one-hot encoded\n",
        "from keras.optimizers import SGD,Adam\n",
        "# opt = SGD(learning_rate=0.1,momentum=0.9,decay = 1e-04) #parameters suggested by He [1]\n",
        "opt=Adam(learning_rate=0.001)\n",
        "model.compile(optimizer = opt,loss='categorical_crossentropy', metrics=[\"accuracy\"]) \n",
        "model.summary()"
      ],
      "metadata": {
        "colab": {
          "base_uri": "https://localhost:8080/"
        },
        "id": "yhrZW5t5ysFd",
        "outputId": "1e2f91ea-916f-4c5e-93c9-96776f651870"
      },
      "execution_count": null,
      "outputs": [
        {
          "output_type": "stream",
          "name": "stderr",
          "text": [
            "WARNING:tensorflow:AutoGraph could not transform <bound method ResnetBlock.call of <__main__.ResnetBlock object at 0x7efe237c9890>> and will run it as-is.\n",
            "Cause: mangled names are not yet supported\n",
            "To silence this warning, decorate the function with @tf.autograph.experimental.do_not_convert\n"
          ]
        },
        {
          "output_type": "stream",
          "name": "stdout",
          "text": [
            "WARNING: AutoGraph could not transform <bound method ResnetBlock.call of <__main__.ResnetBlock object at 0x7efe237c9890>> and will run it as-is.\n",
            "Cause: mangled names are not yet supported\n",
            "To silence this warning, decorate the function with @tf.autograph.experimental.do_not_convert\n",
            "Model: \"res_net18\"\n",
            "_________________________________________________________________\n",
            " Layer (type)                Output Shape              Param #   \n",
            "=================================================================\n",
            " conv2d (Conv2D)             multiple                  1792      \n",
            "                                                                 \n",
            " batch_normalization (BatchN  multiple                 256       \n",
            " ormalization)                                                   \n",
            "                                                                 \n",
            " resnet_block (ResnetBlock)  multiple                  74368     \n",
            "                                                                 \n",
            " resnet_block_1 (ResnetBlock  multiple                 74368     \n",
            " )                                                               \n",
            "                                                                 \n",
            " resnet_block_2 (ResnetBlock  multiple                 231296    \n",
            " )                                                               \n",
            "                                                                 \n",
            " resnet_block_3 (ResnetBlock  multiple                 296192    \n",
            " )                                                               \n",
            "                                                                 \n",
            " resnet_block_4 (ResnetBlock  multiple                 921344    \n",
            " )                                                               \n",
            "                                                                 \n",
            " resnet_block_5 (ResnetBlock  multiple                 1182208   \n",
            " )                                                               \n",
            "                                                                 \n",
            " max_pooling2d (MaxPooling2D  multiple                 0         \n",
            " )                                                               \n",
            "                                                                 \n",
            " dropout (Dropout)           multiple                  0         \n",
            "                                                                 \n",
            " dropout_1 (Dropout)         multiple                  0         \n",
            "                                                                 \n",
            " flatten (Flatten)           multiple                  0         \n",
            "                                                                 \n",
            " dense (Dense)               multiple                  40970     \n",
            "                                                                 \n",
            "=================================================================\n",
            "Total params: 2,822,794\n",
            "Trainable params: 2,818,314\n",
            "Non-trainable params: 4,480\n",
            "_________________________________________________________________\n"
          ]
        }
      ]
    },
    {
      "cell_type": "code",
      "source": [
        "from keras.callbacks import EarlyStopping\n",
        "\n",
        "#es = EarlyStopping(patience= 8, restore_best_weights=True, monitor=\"val_acc\")callbacks=[es]\n",
        "#I did not use cross validation, so the validate performance is not accurate. #steps_per_epoch=STEPS\n",
        "STEPS = len(x_train) / 256\n",
        "#\n",
        "history = model.fit(aug.flow(x_train,y_train,batch_size = 128), batch_size = 128, epochs=150, validation_data=(x_val, y_val))"
      ],
      "metadata": {
        "id": "zYqirAcIzk5N",
        "colab": {
          "base_uri": "https://localhost:8080/"
        },
        "outputId": "b80ccc1a-2b22-43c3-80ff-3fbbe0ec35b3"
      },
      "execution_count": null,
      "outputs": [
        {
          "output_type": "stream",
          "name": "stdout",
          "text": [
            "Epoch 1/150\n",
            "352/352 [==============================] - 47s 112ms/step - loss: 2.1084 - accuracy: 0.3916 - val_loss: 1.4976 - val_accuracy: 0.4774\n",
            "Epoch 2/150\n",
            "352/352 [==============================] - 33s 94ms/step - loss: 1.3939 - accuracy: 0.5390 - val_loss: 1.2328 - val_accuracy: 0.5602\n",
            "Epoch 3/150\n",
            "352/352 [==============================] - 35s 99ms/step - loss: 1.1348 - accuracy: 0.6297 - val_loss: 2.0510 - val_accuracy: 0.6324\n",
            "Epoch 4/150\n",
            "352/352 [==============================] - 34s 96ms/step - loss: 0.9415 - accuracy: 0.6932 - val_loss: 1.1221 - val_accuracy: 0.6190\n",
            "Epoch 5/150\n",
            "352/352 [==============================] - 33s 95ms/step - loss: 0.8294 - accuracy: 0.7323 - val_loss: 0.7957 - val_accuracy: 0.7250\n",
            "Epoch 6/150\n",
            "352/352 [==============================] - 34s 95ms/step - loss: 0.7301 - accuracy: 0.7636 - val_loss: 0.7795 - val_accuracy: 0.7308\n",
            "Epoch 7/150\n",
            "352/352 [==============================] - 34s 95ms/step - loss: 0.6461 - accuracy: 0.7882 - val_loss: 0.8703 - val_accuracy: 0.7292\n",
            "Epoch 8/150\n",
            "352/352 [==============================] - 34s 95ms/step - loss: 0.5865 - accuracy: 0.8078 - val_loss: 0.7178 - val_accuracy: 0.7522\n",
            "Epoch 9/150\n",
            "352/352 [==============================] - 33s 94ms/step - loss: 0.5126 - accuracy: 0.8275 - val_loss: 0.8404 - val_accuracy: 0.7590\n",
            "Epoch 10/150\n",
            "352/352 [==============================] - 34s 96ms/step - loss: 0.4698 - accuracy: 0.8425 - val_loss: 0.5614 - val_accuracy: 0.8056\n",
            "Epoch 11/150\n",
            "352/352 [==============================] - 35s 99ms/step - loss: 0.4326 - accuracy: 0.8543 - val_loss: 0.6609 - val_accuracy: 0.7928\n",
            "Epoch 12/150\n",
            "352/352 [==============================] - 34s 95ms/step - loss: 0.4066 - accuracy: 0.8642 - val_loss: 0.4948 - val_accuracy: 0.8424\n",
            "Epoch 13/150\n",
            "352/352 [==============================] - 33s 93ms/step - loss: 0.3699 - accuracy: 0.8726 - val_loss: 0.6181 - val_accuracy: 0.8128\n",
            "Epoch 14/150\n",
            "352/352 [==============================] - 34s 96ms/step - loss: 0.3478 - accuracy: 0.8840 - val_loss: 0.5349 - val_accuracy: 0.8204\n",
            "Epoch 15/150\n",
            "352/352 [==============================] - 34s 96ms/step - loss: 0.3166 - accuracy: 0.8910 - val_loss: 0.5014 - val_accuracy: 0.8310\n",
            "Epoch 16/150\n",
            "352/352 [==============================] - 33s 94ms/step - loss: 0.2881 - accuracy: 0.9013 - val_loss: 0.4789 - val_accuracy: 0.8396\n",
            "Epoch 17/150\n",
            "352/352 [==============================] - 34s 95ms/step - loss: 0.2694 - accuracy: 0.9074 - val_loss: 0.5677 - val_accuracy: 0.8160\n",
            "Epoch 18/150\n",
            "352/352 [==============================] - 34s 96ms/step - loss: 0.2612 - accuracy: 0.9094 - val_loss: 0.5380 - val_accuracy: 0.8368\n",
            "Epoch 19/150\n",
            "352/352 [==============================] - 34s 95ms/step - loss: 0.2354 - accuracy: 0.9175 - val_loss: 0.5722 - val_accuracy: 0.8204\n",
            "Epoch 20/150\n",
            "352/352 [==============================] - 34s 96ms/step - loss: 0.2166 - accuracy: 0.9245 - val_loss: 0.4117 - val_accuracy: 0.8672\n",
            "Epoch 21/150\n",
            "352/352 [==============================] - 33s 93ms/step - loss: 0.2004 - accuracy: 0.9297 - val_loss: 0.4412 - val_accuracy: 0.8572\n",
            "Epoch 22/150\n",
            "352/352 [==============================] - 34s 96ms/step - loss: 0.1973 - accuracy: 0.9309 - val_loss: 0.4148 - val_accuracy: 0.8688\n",
            "Epoch 23/150\n",
            "352/352 [==============================] - 34s 97ms/step - loss: 0.1797 - accuracy: 0.9376 - val_loss: 0.3735 - val_accuracy: 0.8762\n",
            "Epoch 24/150\n",
            "352/352 [==============================] - 33s 93ms/step - loss: 0.1634 - accuracy: 0.9413 - val_loss: 0.5121 - val_accuracy: 0.8512\n",
            "Epoch 25/150\n",
            "352/352 [==============================] - 33s 95ms/step - loss: 0.1541 - accuracy: 0.9464 - val_loss: 0.4811 - val_accuracy: 0.8658\n",
            "Epoch 26/150\n",
            "352/352 [==============================] - 34s 95ms/step - loss: 0.1442 - accuracy: 0.9493 - val_loss: 0.5054 - val_accuracy: 0.8540\n",
            "Epoch 27/150\n",
            "352/352 [==============================] - 34s 96ms/step - loss: 0.1368 - accuracy: 0.9518 - val_loss: 0.5003 - val_accuracy: 0.8502\n",
            "Epoch 28/150\n",
            "352/352 [==============================] - 33s 94ms/step - loss: 0.1346 - accuracy: 0.9527 - val_loss: 0.4096 - val_accuracy: 0.8788\n",
            "Epoch 29/150\n",
            "352/352 [==============================] - 35s 99ms/step - loss: 0.1216 - accuracy: 0.9580 - val_loss: 0.4317 - val_accuracy: 0.8720\n",
            "Epoch 30/150\n",
            "352/352 [==============================] - 33s 95ms/step - loss: 0.1160 - accuracy: 0.9591 - val_loss: 0.4385 - val_accuracy: 0.8738\n",
            "Epoch 31/150\n",
            "352/352 [==============================] - 33s 93ms/step - loss: 0.1125 - accuracy: 0.9613 - val_loss: 0.4302 - val_accuracy: 0.8774\n",
            "Epoch 32/150\n",
            "352/352 [==============================] - 34s 96ms/step - loss: 0.1052 - accuracy: 0.9629 - val_loss: 0.5259 - val_accuracy: 0.8556\n",
            "Epoch 33/150\n",
            "352/352 [==============================] - 34s 96ms/step - loss: 0.1017 - accuracy: 0.9649 - val_loss: 0.3737 - val_accuracy: 0.8880\n",
            "Epoch 34/150\n",
            "352/352 [==============================] - 33s 95ms/step - loss: 0.0955 - accuracy: 0.9667 - val_loss: 0.4451 - val_accuracy: 0.8750\n",
            "Epoch 35/150\n",
            "352/352 [==============================] - 33s 94ms/step - loss: 0.0936 - accuracy: 0.9669 - val_loss: 0.4656 - val_accuracy: 0.8740\n",
            "Epoch 36/150\n",
            "352/352 [==============================] - 34s 95ms/step - loss: 0.0858 - accuracy: 0.9695 - val_loss: 0.4420 - val_accuracy: 0.8824\n",
            "Epoch 37/150\n",
            "352/352 [==============================] - 34s 96ms/step - loss: 0.0849 - accuracy: 0.9706 - val_loss: 0.4702 - val_accuracy: 0.8732\n",
            "Epoch 38/150\n",
            "352/352 [==============================] - 33s 94ms/step - loss: 0.0811 - accuracy: 0.9714 - val_loss: 0.4071 - val_accuracy: 0.8910\n",
            "Epoch 39/150\n",
            "352/352 [==============================] - 34s 96ms/step - loss: 0.0787 - accuracy: 0.9720 - val_loss: 0.4333 - val_accuracy: 0.8828\n",
            "Epoch 40/150\n",
            "352/352 [==============================] - 34s 97ms/step - loss: 0.0777 - accuracy: 0.9731 - val_loss: 0.4150 - val_accuracy: 0.8912\n",
            "Epoch 41/150\n",
            "352/352 [==============================] - 34s 96ms/step - loss: 0.0737 - accuracy: 0.9742 - val_loss: 0.5050 - val_accuracy: 0.8772\n",
            "Epoch 42/150\n",
            "352/352 [==============================] - 33s 94ms/step - loss: 0.0691 - accuracy: 0.9758 - val_loss: 0.5036 - val_accuracy: 0.8752\n",
            "Epoch 43/150\n",
            "352/352 [==============================] - 34s 96ms/step - loss: 0.0675 - accuracy: 0.9763 - val_loss: 0.5675 - val_accuracy: 0.8616\n",
            "Epoch 44/150\n",
            "352/352 [==============================] - 34s 96ms/step - loss: 0.0688 - accuracy: 0.9756 - val_loss: 0.4209 - val_accuracy: 0.8854\n",
            "Epoch 45/150\n",
            "352/352 [==============================] - 34s 98ms/step - loss: 0.0648 - accuracy: 0.9782 - val_loss: 0.4715 - val_accuracy: 0.8808\n",
            "Epoch 46/150\n",
            "352/352 [==============================] - 33s 94ms/step - loss: 0.0642 - accuracy: 0.9774 - val_loss: 0.5046 - val_accuracy: 0.8664\n",
            "Epoch 47/150\n",
            "352/352 [==============================] - 34s 96ms/step - loss: 0.0631 - accuracy: 0.9775 - val_loss: 0.4517 - val_accuracy: 0.8844\n",
            "Epoch 48/150\n",
            "352/352 [==============================] - 34s 96ms/step - loss: 0.0580 - accuracy: 0.9799 - val_loss: 0.4795 - val_accuracy: 0.8830\n",
            "Epoch 49/150\n",
            "352/352 [==============================] - 33s 94ms/step - loss: 0.0618 - accuracy: 0.9788 - val_loss: 0.4342 - val_accuracy: 0.8894\n",
            "Epoch 50/150\n",
            "352/352 [==============================] - 34s 96ms/step - loss: 0.0567 - accuracy: 0.9799 - val_loss: 0.4003 - val_accuracy: 0.8960\n",
            "Epoch 51/150\n",
            "352/352 [==============================] - 34s 97ms/step - loss: 0.0539 - accuracy: 0.9812 - val_loss: 0.5479 - val_accuracy: 0.8740\n",
            "Epoch 52/150\n",
            "352/352 [==============================] - 34s 96ms/step - loss: 0.0535 - accuracy: 0.9806 - val_loss: 0.4885 - val_accuracy: 0.8886\n",
            "Epoch 53/150\n",
            "352/352 [==============================] - 33s 94ms/step - loss: 0.0524 - accuracy: 0.9820 - val_loss: 0.4743 - val_accuracy: 0.8858\n",
            "Epoch 54/150\n",
            "352/352 [==============================] - 34s 96ms/step - loss: 0.0511 - accuracy: 0.9825 - val_loss: 0.4383 - val_accuracy: 0.8884\n",
            "Epoch 55/150\n",
            "352/352 [==============================] - 34s 97ms/step - loss: 0.0492 - accuracy: 0.9824 - val_loss: 0.5183 - val_accuracy: 0.8780\n",
            "Epoch 56/150\n",
            "352/352 [==============================] - 35s 98ms/step - loss: 0.0472 - accuracy: 0.9832 - val_loss: 0.4625 - val_accuracy: 0.8858\n",
            "Epoch 57/150\n",
            "352/352 [==============================] - 33s 94ms/step - loss: 0.0497 - accuracy: 0.9834 - val_loss: 0.4367 - val_accuracy: 0.8956\n",
            "Epoch 58/150\n",
            "352/352 [==============================] - 34s 96ms/step - loss: 0.0485 - accuracy: 0.9825 - val_loss: 0.5702 - val_accuracy: 0.8690\n",
            "Epoch 59/150\n",
            "352/352 [==============================] - 34s 96ms/step - loss: 0.0485 - accuracy: 0.9833 - val_loss: 0.4937 - val_accuracy: 0.8942\n",
            "Epoch 60/150\n",
            "352/352 [==============================] - 33s 94ms/step - loss: 0.0445 - accuracy: 0.9848 - val_loss: 0.4363 - val_accuracy: 0.8944\n",
            "Epoch 61/150\n",
            "352/352 [==============================] - 34s 95ms/step - loss: 0.0410 - accuracy: 0.9861 - val_loss: 0.5017 - val_accuracy: 0.8834\n",
            "Epoch 62/150\n",
            "352/352 [==============================] - 35s 98ms/step - loss: 0.0475 - accuracy: 0.9836 - val_loss: 0.5138 - val_accuracy: 0.8830\n",
            "Epoch 63/150\n",
            "352/352 [==============================] - 34s 96ms/step - loss: 0.0421 - accuracy: 0.9852 - val_loss: 0.6723 - val_accuracy: 0.8618\n",
            "Epoch 64/150\n",
            "352/352 [==============================] - 33s 94ms/step - loss: 0.0447 - accuracy: 0.9852 - val_loss: 0.5056 - val_accuracy: 0.8842\n",
            "Epoch 65/150\n",
            "352/352 [==============================] - 34s 96ms/step - loss: 0.0462 - accuracy: 0.9844 - val_loss: 0.4640 - val_accuracy: 0.8876\n",
            "Epoch 66/150\n",
            "352/352 [==============================] - 34s 96ms/step - loss: 0.0405 - accuracy: 0.9861 - val_loss: 0.5511 - val_accuracy: 0.8778\n",
            "Epoch 67/150\n",
            "352/352 [==============================] - 35s 99ms/step - loss: 0.0446 - accuracy: 0.9850 - val_loss: 0.4750 - val_accuracy: 0.8920\n",
            "Epoch 68/150\n",
            "352/352 [==============================] - 33s 94ms/step - loss: 0.0410 - accuracy: 0.9856 - val_loss: 0.4112 - val_accuracy: 0.8972\n",
            "Epoch 69/150\n",
            "352/352 [==============================] - 34s 96ms/step - loss: 0.0412 - accuracy: 0.9866 - val_loss: 0.4865 - val_accuracy: 0.8936\n",
            "Epoch 70/150\n",
            "352/352 [==============================] - 34s 96ms/step - loss: 0.0386 - accuracy: 0.9864 - val_loss: 0.6913 - val_accuracy: 0.8562\n",
            "Epoch 71/150\n",
            "352/352 [==============================] - 33s 94ms/step - loss: 0.0381 - accuracy: 0.9871 - val_loss: 0.4999 - val_accuracy: 0.8896\n",
            "Epoch 72/150\n",
            "352/352 [==============================] - 34s 96ms/step - loss: 0.0345 - accuracy: 0.9883 - val_loss: 0.5100 - val_accuracy: 0.8892\n",
            "Epoch 73/150\n",
            "352/352 [==============================] - 35s 98ms/step - loss: 0.0391 - accuracy: 0.9861 - val_loss: 0.5079 - val_accuracy: 0.8868\n",
            "Epoch 74/150\n",
            "352/352 [==============================] - 34s 96ms/step - loss: 0.0369 - accuracy: 0.9872 - val_loss: 0.4752 - val_accuracy: 0.8964\n",
            "Epoch 75/150\n",
            "352/352 [==============================] - 33s 95ms/step - loss: 0.0397 - accuracy: 0.9862 - val_loss: 0.4884 - val_accuracy: 0.8956\n",
            "Epoch 76/150\n",
            "352/352 [==============================] - 34s 96ms/step - loss: 0.0298 - accuracy: 0.9900 - val_loss: 0.5125 - val_accuracy: 0.8940\n",
            "Epoch 77/150\n",
            "352/352 [==============================] - 34s 96ms/step - loss: 0.0359 - accuracy: 0.9881 - val_loss: 0.5027 - val_accuracy: 0.8906\n",
            "Epoch 78/150\n",
            "352/352 [==============================] - 34s 97ms/step - loss: 0.0383 - accuracy: 0.9877 - val_loss: 0.5211 - val_accuracy: 0.8876\n",
            "Epoch 79/150\n",
            "352/352 [==============================] - 34s 95ms/step - loss: 0.0336 - accuracy: 0.9888 - val_loss: 0.4347 - val_accuracy: 0.8996\n",
            "Epoch 80/150\n",
            "352/352 [==============================] - 34s 97ms/step - loss: 0.0322 - accuracy: 0.9889 - val_loss: 0.5194 - val_accuracy: 0.8902\n",
            "Epoch 81/150\n",
            "352/352 [==============================] - 34s 97ms/step - loss: 0.0328 - accuracy: 0.9891 - val_loss: 0.5469 - val_accuracy: 0.8800\n",
            "Epoch 82/150\n",
            "352/352 [==============================] - 33s 94ms/step - loss: 0.0352 - accuracy: 0.9877 - val_loss: 0.4915 - val_accuracy: 0.8908\n",
            "Epoch 83/150\n",
            "352/352 [==============================] - 34s 97ms/step - loss: 0.0352 - accuracy: 0.9883 - val_loss: 0.4864 - val_accuracy: 0.8908\n",
            "Epoch 84/150\n",
            "352/352 [==============================] - 35s 100ms/step - loss: 0.0363 - accuracy: 0.9884 - val_loss: 0.4967 - val_accuracy: 0.8882\n",
            "Epoch 85/150\n",
            "352/352 [==============================] - 34s 97ms/step - loss: 0.0320 - accuracy: 0.9893 - val_loss: 0.4823 - val_accuracy: 0.8966\n",
            "Epoch 86/150\n",
            "352/352 [==============================] - 33s 95ms/step - loss: 0.0318 - accuracy: 0.9894 - val_loss: 0.4835 - val_accuracy: 0.8964\n",
            "Epoch 87/150\n",
            "352/352 [==============================] - 34s 96ms/step - loss: 0.0308 - accuracy: 0.9899 - val_loss: 0.5548 - val_accuracy: 0.8884\n",
            "Epoch 88/150\n",
            "352/352 [==============================] - 34s 96ms/step - loss: 0.0278 - accuracy: 0.9902 - val_loss: 0.5143 - val_accuracy: 0.8912\n",
            "Epoch 89/150\n",
            "352/352 [==============================] - 35s 99ms/step - loss: 0.0313 - accuracy: 0.9896 - val_loss: 0.6265 - val_accuracy: 0.8790\n",
            "Epoch 90/150\n",
            "352/352 [==============================] - 33s 94ms/step - loss: 0.0297 - accuracy: 0.9906 - val_loss: 0.5453 - val_accuracy: 0.8930\n",
            "Epoch 91/150\n",
            "352/352 [==============================] - 34s 96ms/step - loss: 0.0318 - accuracy: 0.9894 - val_loss: 0.6694 - val_accuracy: 0.8692\n",
            "Epoch 92/150\n",
            "352/352 [==============================] - 34s 96ms/step - loss: 0.0317 - accuracy: 0.9896 - val_loss: 0.5453 - val_accuracy: 0.8908\n",
            "Epoch 93/150\n",
            "352/352 [==============================] - 33s 94ms/step - loss: 0.0291 - accuracy: 0.9907 - val_loss: 0.5078 - val_accuracy: 0.8954\n",
            "Epoch 94/150\n",
            "352/352 [==============================] - 34s 97ms/step - loss: 0.0280 - accuracy: 0.9904 - val_loss: 0.5191 - val_accuracy: 0.8916\n",
            "Epoch 95/150\n",
            "352/352 [==============================] - 34s 96ms/step - loss: 0.0314 - accuracy: 0.9891 - val_loss: 0.4641 - val_accuracy: 0.8982\n",
            "Epoch 96/150\n",
            "352/352 [==============================] - 34s 95ms/step - loss: 0.0244 - accuracy: 0.9919 - val_loss: 0.4914 - val_accuracy: 0.9020\n",
            "Epoch 97/150\n",
            "352/352 [==============================] - 34s 95ms/step - loss: 0.0286 - accuracy: 0.9903 - val_loss: 0.5509 - val_accuracy: 0.8880\n",
            "Epoch 98/150\n",
            "352/352 [==============================] - 33s 93ms/step - loss: 0.0301 - accuracy: 0.9903 - val_loss: 0.4907 - val_accuracy: 0.8956\n",
            "Epoch 99/150\n",
            "352/352 [==============================] - 34s 96ms/step - loss: 0.0273 - accuracy: 0.9908 - val_loss: 0.4631 - val_accuracy: 0.9042\n",
            "Epoch 100/150\n",
            "352/352 [==============================] - 35s 98ms/step - loss: 0.0244 - accuracy: 0.9920 - val_loss: 0.4868 - val_accuracy: 0.9016\n",
            "Epoch 101/150\n",
            "352/352 [==============================] - 34s 96ms/step - loss: 0.0266 - accuracy: 0.9912 - val_loss: 0.5952 - val_accuracy: 0.8832\n",
            "Epoch 102/150\n",
            "352/352 [==============================] - 34s 96ms/step - loss: 0.0293 - accuracy: 0.9902 - val_loss: 0.5422 - val_accuracy: 0.8966\n",
            "Epoch 103/150\n",
            "352/352 [==============================] - 34s 96ms/step - loss: 0.0297 - accuracy: 0.9897 - val_loss: 0.5067 - val_accuracy: 0.8962\n",
            "Epoch 104/150\n",
            "352/352 [==============================] - 34s 97ms/step - loss: 0.0278 - accuracy: 0.9907 - val_loss: 0.5644 - val_accuracy: 0.8874\n",
            "Epoch 105/150\n",
            "352/352 [==============================] - 34s 96ms/step - loss: 0.0287 - accuracy: 0.9904 - val_loss: 0.5158 - val_accuracy: 0.8986\n",
            "Epoch 106/150\n",
            "352/352 [==============================] - 34s 97ms/step - loss: 0.0272 - accuracy: 0.9909 - val_loss: 0.5535 - val_accuracy: 0.8896\n",
            "Epoch 107/150\n",
            "352/352 [==============================] - 34s 96ms/step - loss: 0.0233 - accuracy: 0.9922 - val_loss: 0.5147 - val_accuracy: 0.9028\n",
            "Epoch 108/150\n",
            "352/352 [==============================] - 34s 98ms/step - loss: 0.0255 - accuracy: 0.9916 - val_loss: 0.5176 - val_accuracy: 0.8938\n",
            "Epoch 109/150\n",
            "352/352 [==============================] - 34s 97ms/step - loss: 0.0244 - accuracy: 0.9918 - val_loss: 0.6160 - val_accuracy: 0.8852\n",
            "Epoch 110/150\n",
            "352/352 [==============================] - 33s 95ms/step - loss: 0.0262 - accuracy: 0.9918 - val_loss: 0.5647 - val_accuracy: 0.8994\n",
            "Epoch 111/150\n",
            "352/352 [==============================] - 35s 99ms/step - loss: 0.0261 - accuracy: 0.9914 - val_loss: 0.5098 - val_accuracy: 0.8976\n",
            "Epoch 112/150\n",
            "352/352 [==============================] - 35s 99ms/step - loss: 0.0279 - accuracy: 0.9908 - val_loss: 0.5207 - val_accuracy: 0.8988\n",
            "Epoch 113/150\n",
            "352/352 [==============================] - 35s 98ms/step - loss: 0.0260 - accuracy: 0.9913 - val_loss: 0.4941 - val_accuracy: 0.9028\n",
            "Epoch 114/150\n",
            "352/352 [==============================] - 34s 96ms/step - loss: 0.0218 - accuracy: 0.9928 - val_loss: 0.4961 - val_accuracy: 0.9034\n",
            "Epoch 115/150\n",
            "352/352 [==============================] - 34s 95ms/step - loss: 0.0248 - accuracy: 0.9918 - val_loss: 0.6506 - val_accuracy: 0.8808\n",
            "Epoch 116/150\n",
            "352/352 [==============================] - 35s 100ms/step - loss: 0.0247 - accuracy: 0.9916 - val_loss: 0.5462 - val_accuracy: 0.8962\n",
            "Epoch 117/150\n",
            "352/352 [==============================] - 34s 96ms/step - loss: 0.0235 - accuracy: 0.9922 - val_loss: 0.4883 - val_accuracy: 0.9030\n",
            "Epoch 118/150\n",
            "352/352 [==============================] - 34s 96ms/step - loss: 0.0237 - accuracy: 0.9924 - val_loss: 0.5268 - val_accuracy: 0.9048\n",
            "Epoch 119/150\n",
            "352/352 [==============================] - 42s 119ms/step - loss: 0.0202 - accuracy: 0.9931 - val_loss: 0.5645 - val_accuracy: 0.8952\n",
            "Epoch 120/150\n",
            "352/352 [==============================] - 35s 100ms/step - loss: 0.0232 - accuracy: 0.9923 - val_loss: 0.5597 - val_accuracy: 0.9000\n",
            "Epoch 121/150\n",
            "352/352 [==============================] - 37s 105ms/step - loss: 0.0247 - accuracy: 0.9918 - val_loss: 0.5743 - val_accuracy: 0.8942\n",
            "Epoch 122/150\n",
            "352/352 [==============================] - 34s 97ms/step - loss: 0.0253 - accuracy: 0.9918 - val_loss: 0.5108 - val_accuracy: 0.9014\n",
            "Epoch 123/150\n",
            "352/352 [==============================] - 34s 98ms/step - loss: 0.0216 - accuracy: 0.9930 - val_loss: 0.5034 - val_accuracy: 0.9018\n",
            "Epoch 124/150\n",
            "352/352 [==============================] - 35s 99ms/step - loss: 0.0203 - accuracy: 0.9932 - val_loss: 0.5594 - val_accuracy: 0.8974\n",
            "Epoch 125/150\n",
            "352/352 [==============================] - 35s 100ms/step - loss: 0.0212 - accuracy: 0.9931 - val_loss: 0.5376 - val_accuracy: 0.9002\n",
            "Epoch 126/150\n",
            "352/352 [==============================] - 36s 103ms/step - loss: 0.0228 - accuracy: 0.9926 - val_loss: 0.5711 - val_accuracy: 0.8924\n",
            "Epoch 127/150\n",
            "352/352 [==============================] - 35s 100ms/step - loss: 0.0236 - accuracy: 0.9921 - val_loss: 0.5212 - val_accuracy: 0.9008\n",
            "Epoch 128/150\n",
            "352/352 [==============================] - 34s 97ms/step - loss: 0.0207 - accuracy: 0.9933 - val_loss: 0.5096 - val_accuracy: 0.9022\n",
            "Epoch 129/150\n",
            "352/352 [==============================] - 35s 98ms/step - loss: 0.0252 - accuracy: 0.9915 - val_loss: 0.5718 - val_accuracy: 0.8908\n",
            "Epoch 130/150\n",
            "352/352 [==============================] - 35s 98ms/step - loss: 0.0238 - accuracy: 0.9926 - val_loss: 0.5167 - val_accuracy: 0.8972\n",
            "Epoch 131/150\n",
            "352/352 [==============================] - 36s 102ms/step - loss: 0.0199 - accuracy: 0.9939 - val_loss: 0.5641 - val_accuracy: 0.8918\n",
            "Epoch 132/150\n",
            "352/352 [==============================] - 34s 98ms/step - loss: 0.0227 - accuracy: 0.9926 - val_loss: 0.5628 - val_accuracy: 0.8946\n",
            "Epoch 133/150\n",
            "352/352 [==============================] - 35s 98ms/step - loss: 0.0234 - accuracy: 0.9923 - val_loss: 0.5125 - val_accuracy: 0.8982\n",
            "Epoch 134/150\n",
            "352/352 [==============================] - 35s 99ms/step - loss: 0.0201 - accuracy: 0.9936 - val_loss: 0.5277 - val_accuracy: 0.8982\n",
            "Epoch 135/150\n",
            "352/352 [==============================] - 35s 100ms/step - loss: 0.0210 - accuracy: 0.9930 - val_loss: 0.5486 - val_accuracy: 0.8974\n",
            "Epoch 136/150\n",
            "352/352 [==============================] - 35s 98ms/step - loss: 0.0194 - accuracy: 0.9934 - val_loss: 0.6415 - val_accuracy: 0.8872\n",
            "Epoch 137/150\n",
            "352/352 [==============================] - 35s 99ms/step - loss: 0.0232 - accuracy: 0.9927 - val_loss: 0.5864 - val_accuracy: 0.8928\n",
            "Epoch 138/150\n",
            "352/352 [==============================] - 35s 100ms/step - loss: 0.0211 - accuracy: 0.9929 - val_loss: 0.5804 - val_accuracy: 0.8950\n",
            "Epoch 139/150\n",
            "352/352 [==============================] - 35s 99ms/step - loss: 0.0204 - accuracy: 0.9929 - val_loss: 0.6228 - val_accuracy: 0.8868\n",
            "Epoch 140/150\n",
            "352/352 [==============================] - 34s 97ms/step - loss: 0.0213 - accuracy: 0.9932 - val_loss: 0.6525 - val_accuracy: 0.8864\n",
            "Epoch 141/150\n",
            "352/352 [==============================] - 34s 95ms/step - loss: 0.0221 - accuracy: 0.9928 - val_loss: 0.6840 - val_accuracy: 0.8858\n",
            "Epoch 142/150\n",
            "352/352 [==============================] - 35s 100ms/step - loss: 0.0186 - accuracy: 0.9938 - val_loss: 0.5534 - val_accuracy: 0.9010\n",
            "Epoch 143/150\n",
            "352/352 [==============================] - 34s 97ms/step - loss: 0.0244 - accuracy: 0.9918 - val_loss: 0.6546 - val_accuracy: 0.8852\n",
            "Epoch 144/150\n",
            "352/352 [==============================] - 34s 98ms/step - loss: 0.0199 - accuracy: 0.9932 - val_loss: 0.5894 - val_accuracy: 0.8946\n",
            "Epoch 145/150\n",
            "352/352 [==============================] - 34s 96ms/step - loss: 0.0201 - accuracy: 0.9930 - val_loss: 0.6101 - val_accuracy: 0.8894\n",
            "Epoch 146/150\n",
            "352/352 [==============================] - 34s 98ms/step - loss: 0.0217 - accuracy: 0.9925 - val_loss: 0.6160 - val_accuracy: 0.8912\n",
            "Epoch 147/150\n",
            "352/352 [==============================] - 35s 99ms/step - loss: 0.0180 - accuracy: 0.9942 - val_loss: 0.6008 - val_accuracy: 0.8926\n",
            "Epoch 148/150\n",
            "352/352 [==============================] - 35s 99ms/step - loss: 0.0193 - accuracy: 0.9935 - val_loss: 0.5724 - val_accuracy: 0.9004\n",
            "Epoch 149/150\n",
            "352/352 [==============================] - 34s 96ms/step - loss: 0.0189 - accuracy: 0.9937 - val_loss: 0.5962 - val_accuracy: 0.8922\n",
            "Epoch 150/150\n",
            "352/352 [==============================] - 34s 96ms/step - loss: 0.0170 - accuracy: 0.9946 - val_loss: 0.5301 - val_accuracy: 0.9036\n"
          ]
        }
      ]
    },
    {
      "cell_type": "code",
      "source": [
        "ModelLoss, ModelAccuracy = model.evaluate(x_test, y_test)\n",
        "\n",
        "print('Model Loss is {}'.format(ModelLoss))\n",
        "print('Model Accuracy is {}'.format(ModelAccuracy))"
      ],
      "metadata": {
        "id": "nxjy8e2X0DUE",
        "colab": {
          "base_uri": "https://localhost:8080/"
        },
        "outputId": "f8aa7c60-882d-492a-b5ac-fac537fc8e8d"
      },
      "execution_count": null,
      "outputs": [
        {
          "output_type": "stream",
          "name": "stdout",
          "text": [
            "313/313 [==============================] - 3s 10ms/step - loss: 0.5453 - accuracy: 0.9088\n",
            "Model Loss is 0.5452798008918762\n",
            "Model Accuracy is 0.9088000059127808\n"
          ]
        }
      ]
    },
    {
      "cell_type": "code",
      "source": [
        "#ACCURACY\n",
        "plt.plot(history.history['accuracy'])\n",
        "plt.plot(history.history['val_accuracy'])\n",
        "plt.title('model accuracy')\n",
        "plt.ylabel('accuracy')\n",
        "plt.xlabel('epoch')\n",
        "plt.legend(['train', 'val'], loc='upper left')\n",
        "plt.show()"
      ],
      "metadata": {
        "colab": {
          "base_uri": "https://localhost:8080/",
          "height": 296
        },
        "id": "umbtWo3kbRKt",
        "outputId": "72496cff-19eb-43d1-c2f7-c3af236dd68e"
      },
      "execution_count": null,
      "outputs": [
        {
          "output_type": "display_data",
          "data": {
            "text/plain": [
              "<Figure size 432x288 with 1 Axes>"
            ],
            "image/png": "[encoded data removed]"
          },
          "metadata": {
            "needs_background": "light"
          }
        }
      ]
    },
    {
      "cell_type": "code",
      "source": [
        "#LOSS\n",
        "plt.plot(history.history['loss'])\n",
        "plt.plot(history.history['val_loss'])\n",
        "plt.title('model loss')\n",
        "plt.ylabel('loss')\n",
        "plt.xlabel('epoch')\n",
        "plt.legend(['train', 'val'], loc='upper left')\n",
        "plt.show()"
      ],
      "metadata": {
        "colab": {
          "base_uri": "https://localhost:8080/",
          "height": 296
        },
        "id": "U_iZKYord8Hn",
        "outputId": "e4d87651-8434-4fda-c693-5bb5bae17c53"
      },
      "execution_count": null,
      "outputs": [
        {
          "output_type": "display_data",
          "data": {
            "text/plain": [
              "<Figure size 432x288 with 1 Axes>"
            ],
            "image/png": "[encoded data removed]"
          },
          "metadata": {
            "needs_background": "light"
          }
        }
      ]
    },
    {
      "cell_type": "code",
      "source": [
        "import keras\n",
        "model.save('/content/drive/MyDrive/DL_midterm/midterm',save_format=\"tf\")\n",
        "path='/content/drive/MyDrive/DL_midterm/midterm'\n",
        "model = keras.models.load_model(path)"
      ],
      "metadata": {
        "id": "JgdAEH30d-1k"
      },
      "execution_count": null,
      "outputs": []
    }
  ]
}